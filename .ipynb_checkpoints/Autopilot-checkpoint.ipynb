{
 "cells": [
  {
   "cell_type": "code",
   "execution_count": null,
   "metadata": {},
   "outputs": [],
   "source": [
    "import krpc\n",
    "import time\n",
    "\n",
    "def bias = 0.\n",
    "\n",
    "def autoroll(activevessel):\n",
    "    vesselFlight = vessel.flight(activevessel)\n",
    "    if vesselFlight.roll > 0:\n",
    "        dg = (vesselFlight/360)*2*math.pi\n",
    "        return (math.cos(dg)-1)*0.5\n",
    "    elif vesselFlight.roll < 0:\n",
    "        dg = (vesselFlight/360)*2*math.pi \n",
    "        return -((math.cos(dg)-1)*0.5)\n"
   ]
  }
 ],
 "metadata": {
  "kernelspec": {
   "display_name": "Python 3",
   "language": "python",
   "name": "python3"
  },
  "language_info": {
   "codemirror_mode": {
    "name": "ipython",
    "version": 3
   },
   "file_extension": ".py",
   "mimetype": "text/x-python",
   "name": "python",
   "nbconvert_exporter": "python",
   "pygments_lexer": "ipython3",
   "version": "3.7.1"
  }
 },
 "nbformat": 4,
 "nbformat_minor": 2
}
