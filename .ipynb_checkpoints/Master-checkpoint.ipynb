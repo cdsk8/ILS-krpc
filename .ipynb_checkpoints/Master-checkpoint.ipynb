{
 "cells": [
  {
   "cell_type": "code",
   "execution_count": null,
   "metadata": {},
   "outputs": [],
   "source": [
    "import krpc\n",
    "\n",
    "#connecting the krpc to ksp and givin a name to the script\n",
    "conn = krpc.connect(name='ILS')\n",
    "\n",
    "#Getting the reference frame, in this case its our vessel\n",
    "vessel = conn.space_center.active_vessel\n",
    "\n",
    "#Get our canvas in wich we will draw\n",
    "canvas = conn.ui.stock_canvas\n",
    "\n",
    "# Get the size of the game window in pixels\n",
    "screen_size = canvas.rect_transform.size\n",
    "\n",
    "# Add a panel to contain the UI elements\n",
    "panel = canvas.add_panel()\n",
    "\n",
    "# Position the panel on the left of the screen\n",
    "rect = panel.rect_transform\n",
    "rect.size = (300, 200)\n",
    "rect.position = (110-(screen_size[0]/2), 0)\n",
    "\n",
    "# Add a button to start ILS\n",
    "button = panel.add_button(\"autoRoll\")\n",
    "button.rect_transform.position = (-50, 85)\n",
    "\n",
    "# Add a button to stop ILS\n",
    "button2 = panel.add_button(\"Kill\")\n",
    "button2.rect_transform.position = (-50, 55)\n",
    "\n",
    "\n",
    "#Add streams that activates when the selected button is clicked\n",
    "button_clicked = conn.add_stream(getattr, button, 'clicked')\n",
    "button2_clicked = conn.add_stream(getattr, button2, 'clicked')\n",
    "\n",
    "while True:\n",
    "    if button_clicked():\n",
    "        "
   ]
  }
 ],
 "metadata": {
  "kernelspec": {
   "display_name": "Python 3",
   "language": "python",
   "name": "python3"
  },
  "language_info": {
   "codemirror_mode": {
    "name": "ipython",
    "version": 3
   },
   "file_extension": ".py",
   "mimetype": "text/x-python",
   "name": "python",
   "nbconvert_exporter": "python",
   "pygments_lexer": "ipython3",
   "version": "3.7.1"
  }
 },
 "nbformat": 4,
 "nbformat_minor": 2
}
